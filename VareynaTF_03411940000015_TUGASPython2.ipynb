{
 "cells": [
  {
   "cell_type": "code",
   "execution_count": 1,
   "metadata": {},
   "outputs": [],
   "source": [
    "import pandas as pd"
   ]
  },
  {
   "cell_type": "code",
   "execution_count": 25,
   "metadata": {},
   "outputs": [],
   "source": [
    "Data=pd.read_csv('https://raw.githubusercontent.com/VareynaTsamrotulF/Tugas_Python2/master/Data.csv')"
   ]
  },
  {
   "cell_type": "code",
   "execution_count": 26,
   "metadata": {},
   "outputs": [
    {
     "data": {
      "text/html": [
       "<div>\n",
       "<style scoped>\n",
       "    .dataframe tbody tr th:only-of-type {\n",
       "        vertical-align: middle;\n",
       "    }\n",
       "\n",
       "    .dataframe tbody tr th {\n",
       "        vertical-align: top;\n",
       "    }\n",
       "\n",
       "    .dataframe thead th {\n",
       "        text-align: right;\n",
       "    }\n",
       "</style>\n",
       "<table border=\"1\" class=\"dataframe\">\n",
       "  <thead>\n",
       "    <tr style=\"text-align: right;\">\n",
       "      <th></th>\n",
       "      <th>Bulan</th>\n",
       "      <th>Jumlah Aparat Pamong Praja Tahun 2017</th>\n",
       "      <th>Jumlah Aparat Pamong Praja Tahun 2018</th>\n",
       "      <th>Jumlah Aparat Pamong Praja Tahun 2019</th>\n",
       "    </tr>\n",
       "  </thead>\n",
       "  <tbody>\n",
       "    <tr>\n",
       "      <td>0</td>\n",
       "      <td>Januari</td>\n",
       "      <td>132</td>\n",
       "      <td>129</td>\n",
       "      <td>128</td>\n",
       "    </tr>\n",
       "    <tr>\n",
       "      <td>1</td>\n",
       "      <td>Februari</td>\n",
       "      <td>132</td>\n",
       "      <td>129</td>\n",
       "      <td>128</td>\n",
       "    </tr>\n",
       "    <tr>\n",
       "      <td>2</td>\n",
       "      <td>Maret</td>\n",
       "      <td>132</td>\n",
       "      <td>129</td>\n",
       "      <td>128</td>\n",
       "    </tr>\n",
       "    <tr>\n",
       "      <td>3</td>\n",
       "      <td>April</td>\n",
       "      <td>132</td>\n",
       "      <td>129</td>\n",
       "      <td>128</td>\n",
       "    </tr>\n",
       "    <tr>\n",
       "      <td>4</td>\n",
       "      <td>Mei</td>\n",
       "      <td>132</td>\n",
       "      <td>129</td>\n",
       "      <td>119</td>\n",
       "    </tr>\n",
       "  </tbody>\n",
       "</table>\n",
       "</div>"
      ],
      "text/plain": [
       "      Bulan  Jumlah Aparat Pamong Praja Tahun 2017  \\\n",
       "0   Januari                                    132   \n",
       "1  Februari                                    132   \n",
       "2     Maret                                    132   \n",
       "3     April                                    132   \n",
       "4       Mei                                    132   \n",
       "\n",
       "   Jumlah Aparat Pamong Praja Tahun 2018  \\\n",
       "0                                    129   \n",
       "1                                    129   \n",
       "2                                    129   \n",
       "3                                    129   \n",
       "4                                    129   \n",
       "\n",
       "   Jumlah Aparat Pamong Praja Tahun 2019  \n",
       "0                                    128  \n",
       "1                                    128  \n",
       "2                                    128  \n",
       "3                                    128  \n",
       "4                                    119  "
      ]
     },
     "execution_count": 26,
     "metadata": {},
     "output_type": "execute_result"
    }
   ],
   "source": [
    "Data.head()"
   ]
  },
  {
   "cell_type": "code",
   "execution_count": 27,
   "metadata": {},
   "outputs": [
    {
     "data": {
      "text/html": [
       "<div>\n",
       "<style scoped>\n",
       "    .dataframe tbody tr th:only-of-type {\n",
       "        vertical-align: middle;\n",
       "    }\n",
       "\n",
       "    .dataframe tbody tr th {\n",
       "        vertical-align: top;\n",
       "    }\n",
       "\n",
       "    .dataframe thead th {\n",
       "        text-align: right;\n",
       "    }\n",
       "</style>\n",
       "<table border=\"1\" class=\"dataframe\">\n",
       "  <thead>\n",
       "    <tr style=\"text-align: right;\">\n",
       "      <th></th>\n",
       "      <th>Bulan</th>\n",
       "      <th>Jumlah Aparat Pamong Praja Tahun 2017</th>\n",
       "      <th>Jumlah Aparat Pamong Praja Tahun 2018</th>\n",
       "      <th>Jumlah Aparat Pamong Praja Tahun 2019</th>\n",
       "    </tr>\n",
       "  </thead>\n",
       "  <tbody>\n",
       "    <tr>\n",
       "      <td>7</td>\n",
       "      <td>Agustus</td>\n",
       "      <td>132</td>\n",
       "      <td>130</td>\n",
       "      <td>119</td>\n",
       "    </tr>\n",
       "    <tr>\n",
       "      <td>8</td>\n",
       "      <td>September</td>\n",
       "      <td>132</td>\n",
       "      <td>130</td>\n",
       "      <td>117</td>\n",
       "    </tr>\n",
       "    <tr>\n",
       "      <td>9</td>\n",
       "      <td>Oktober</td>\n",
       "      <td>132</td>\n",
       "      <td>130</td>\n",
       "      <td>117</td>\n",
       "    </tr>\n",
       "    <tr>\n",
       "      <td>10</td>\n",
       "      <td>November</td>\n",
       "      <td>132</td>\n",
       "      <td>130</td>\n",
       "      <td>0</td>\n",
       "    </tr>\n",
       "    <tr>\n",
       "      <td>11</td>\n",
       "      <td>Desember</td>\n",
       "      <td>132</td>\n",
       "      <td>130</td>\n",
       "      <td>0</td>\n",
       "    </tr>\n",
       "  </tbody>\n",
       "</table>\n",
       "</div>"
      ],
      "text/plain": [
       "        Bulan  Jumlah Aparat Pamong Praja Tahun 2017  \\\n",
       "7     Agustus                                    132   \n",
       "8   September                                    132   \n",
       "9     Oktober                                    132   \n",
       "10   November                                    132   \n",
       "11   Desember                                    132   \n",
       "\n",
       "    Jumlah Aparat Pamong Praja Tahun 2018  \\\n",
       "7                                     130   \n",
       "8                                     130   \n",
       "9                                     130   \n",
       "10                                    130   \n",
       "11                                    130   \n",
       "\n",
       "    Jumlah Aparat Pamong Praja Tahun 2019  \n",
       "7                                     119  \n",
       "8                                     117  \n",
       "9                                     117  \n",
       "10                                      0  \n",
       "11                                      0  "
      ]
     },
     "execution_count": 27,
     "metadata": {},
     "output_type": "execute_result"
    }
   ],
   "source": [
    "Data.tail()"
   ]
  },
  {
   "cell_type": "code",
   "execution_count": 36,
   "metadata": {
    "scrolled": true
   },
   "outputs": [
    {
     "name": "stdout",
     "output_type": "stream",
     "text": [
      "<class 'pandas.core.frame.DataFrame'>\n",
      "RangeIndex: 12 entries, 0 to 11\n",
      "Data columns (total 4 columns):\n",
      "Bulan                                    12 non-null object\n",
      "Jumlah Aparat Pamong Praja Tahun 2017    12 non-null int64\n",
      "Jumlah Aparat Pamong Praja Tahun 2018    12 non-null int64\n",
      "Jumlah Aparat Pamong Praja Tahun 2019    12 non-null int64\n",
      "dtypes: int64(3), object(1)\n",
      "memory usage: 512.0+ bytes\n"
     ]
    }
   ],
   "source": [
    "Data.info()"
   ]
  },
  {
   "cell_type": "code",
   "execution_count": 28,
   "metadata": {},
   "outputs": [
    {
     "data": {
      "text/html": [
       "<div>\n",
       "<style scoped>\n",
       "    .dataframe tbody tr th:only-of-type {\n",
       "        vertical-align: middle;\n",
       "    }\n",
       "\n",
       "    .dataframe tbody tr th {\n",
       "        vertical-align: top;\n",
       "    }\n",
       "\n",
       "    .dataframe thead th {\n",
       "        text-align: right;\n",
       "    }\n",
       "</style>\n",
       "<table border=\"1\" class=\"dataframe\">\n",
       "  <thead>\n",
       "    <tr style=\"text-align: right;\">\n",
       "      <th></th>\n",
       "      <th>Jumlah Aparat Pamong Praja Tahun 2017</th>\n",
       "      <th>Jumlah Aparat Pamong Praja Tahun 2018</th>\n",
       "      <th>Jumlah Aparat Pamong Praja Tahun 2019</th>\n",
       "    </tr>\n",
       "  </thead>\n",
       "  <tbody>\n",
       "    <tr>\n",
       "      <td>count</td>\n",
       "      <td>12.0</td>\n",
       "      <td>12.000000</td>\n",
       "      <td>12.000000</td>\n",
       "    </tr>\n",
       "    <tr>\n",
       "      <td>mean</td>\n",
       "      <td>132.0</td>\n",
       "      <td>129.500000</td>\n",
       "      <td>101.833333</td>\n",
       "    </tr>\n",
       "    <tr>\n",
       "      <td>std</td>\n",
       "      <td>0.0</td>\n",
       "      <td>0.522233</td>\n",
       "      <td>47.785189</td>\n",
       "    </tr>\n",
       "    <tr>\n",
       "      <td>min</td>\n",
       "      <td>132.0</td>\n",
       "      <td>129.000000</td>\n",
       "      <td>0.000000</td>\n",
       "    </tr>\n",
       "    <tr>\n",
       "      <td>25%</td>\n",
       "      <td>132.0</td>\n",
       "      <td>129.000000</td>\n",
       "      <td>117.000000</td>\n",
       "    </tr>\n",
       "    <tr>\n",
       "      <td>50%</td>\n",
       "      <td>132.0</td>\n",
       "      <td>129.500000</td>\n",
       "      <td>119.000000</td>\n",
       "    </tr>\n",
       "    <tr>\n",
       "      <td>75%</td>\n",
       "      <td>132.0</td>\n",
       "      <td>130.000000</td>\n",
       "      <td>128.000000</td>\n",
       "    </tr>\n",
       "    <tr>\n",
       "      <td>max</td>\n",
       "      <td>132.0</td>\n",
       "      <td>130.000000</td>\n",
       "      <td>128.000000</td>\n",
       "    </tr>\n",
       "  </tbody>\n",
       "</table>\n",
       "</div>"
      ],
      "text/plain": [
       "       Jumlah Aparat Pamong Praja Tahun 2017  \\\n",
       "count                                   12.0   \n",
       "mean                                   132.0   \n",
       "std                                      0.0   \n",
       "min                                    132.0   \n",
       "25%                                    132.0   \n",
       "50%                                    132.0   \n",
       "75%                                    132.0   \n",
       "max                                    132.0   \n",
       "\n",
       "       Jumlah Aparat Pamong Praja Tahun 2018  \\\n",
       "count                              12.000000   \n",
       "mean                              129.500000   \n",
       "std                                 0.522233   \n",
       "min                               129.000000   \n",
       "25%                               129.000000   \n",
       "50%                               129.500000   \n",
       "75%                               130.000000   \n",
       "max                               130.000000   \n",
       "\n",
       "       Jumlah Aparat Pamong Praja Tahun 2019  \n",
       "count                              12.000000  \n",
       "mean                              101.833333  \n",
       "std                                47.785189  \n",
       "min                                 0.000000  \n",
       "25%                               117.000000  \n",
       "50%                               119.000000  \n",
       "75%                               128.000000  \n",
       "max                               128.000000  "
      ]
     },
     "execution_count": 28,
     "metadata": {},
     "output_type": "execute_result"
    }
   ],
   "source": [
    "Data.describe()"
   ]
  },
  {
   "cell_type": "code",
   "execution_count": 31,
   "metadata": {},
   "outputs": [
    {
     "data": {
      "text/html": [
       "<div>\n",
       "<style scoped>\n",
       "    .dataframe tbody tr th:only-of-type {\n",
       "        vertical-align: middle;\n",
       "    }\n",
       "\n",
       "    .dataframe tbody tr th {\n",
       "        vertical-align: top;\n",
       "    }\n",
       "\n",
       "    .dataframe thead th {\n",
       "        text-align: right;\n",
       "    }\n",
       "</style>\n",
       "<table border=\"1\" class=\"dataframe\">\n",
       "  <thead>\n",
       "    <tr style=\"text-align: right;\">\n",
       "      <th></th>\n",
       "      <th>Jumlah Aparat Pamong Praja Tahun 2018</th>\n",
       "      <th>Jumlah Aparat Pamong Praja Tahun 2019</th>\n",
       "    </tr>\n",
       "    <tr>\n",
       "      <th>Jumlah Aparat Pamong Praja Tahun 2017</th>\n",
       "      <th></th>\n",
       "      <th></th>\n",
       "    </tr>\n",
       "  </thead>\n",
       "  <tbody>\n",
       "    <tr>\n",
       "      <td>132</td>\n",
       "      <td>129.5</td>\n",
       "      <td>101.833333</td>\n",
       "    </tr>\n",
       "  </tbody>\n",
       "</table>\n",
       "</div>"
      ],
      "text/plain": [
       "                                       Jumlah Aparat Pamong Praja Tahun 2018  \\\n",
       "Jumlah Aparat Pamong Praja Tahun 2017                                          \n",
       "132                                                                    129.5   \n",
       "\n",
       "                                       Jumlah Aparat Pamong Praja Tahun 2019  \n",
       "Jumlah Aparat Pamong Praja Tahun 2017                                         \n",
       "132                                                               101.833333  "
      ]
     },
     "execution_count": 31,
     "metadata": {},
     "output_type": "execute_result"
    }
   ],
   "source": [
    "Data.groupby('Jumlah Aparat Pamong Praja Tahun 2017').mean()"
   ]
  },
  {
   "cell_type": "code",
   "execution_count": 38,
   "metadata": {},
   "outputs": [],
   "source": [
    "import matplotlib.pyplot as plt"
   ]
  },
  {
   "cell_type": "code",
   "execution_count": 52,
   "metadata": {
    "scrolled": true
   },
   "outputs": [
    {
     "data": {
      "image/png": "[encoded data removed]",
      "text/plain": [
       "<Figure size 720x360 with 1 Axes>"
      ]
     },
     "metadata": {
      "needs_background": "light"
     },
     "output_type": "display_data"
    }
   ],
   "source": [
    "plt.figure(figsize=(10,5))\n",
    "plt.plot(Data['Jumlah Aparat Pamong Praja Tahun 2017'], label='Jumlah Aparat PP Tahun 2017')\n",
    "plt.plot(Data['Jumlah Aparat Pamong Praja Tahun 2018'], label='Jumlah Aparat PP Tahun 2018')\n",
    "plt.plot(Data['Jumlah Aparat Pamong Praja Tahun 2019'], label='Jumlah Aparat PP Tahun 2019')\n",
    "\n",
    "plt.xlabel('Bulan')\n",
    "plt.ylabel('Jumlah Aparat Pamong Praja')\n",
    "plt.title('Jumlah Aparat Pamong Praja Tahun 2017-2019')\n",
    "plt.legend()\n",
    "plt.show()"
   ]
  },
  {
   "cell_type": "code",
   "execution_count": null,
   "metadata": {},
   "outputs": [],
   "source": []
  }
 ],
 "metadata": {
  "kernelspec": {
   "display_name": "Python 3",
   "language": "python",
   "name": "python3"
  },
  "language_info": {
   "codemirror_mode": {
    "name": "ipython",
    "version": 3
   },
   "file_extension": ".py",
   "mimetype": "text/x-python",
   "name": "python",
   "nbconvert_exporter": "python",
   "pygments_lexer": "ipython3",
   "version": "3.7.4"
  }
 },
 "nbformat": 4,
 "nbformat_minor": 2
}
